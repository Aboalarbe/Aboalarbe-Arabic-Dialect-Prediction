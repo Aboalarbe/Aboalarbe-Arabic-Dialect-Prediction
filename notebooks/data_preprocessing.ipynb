{
 "cells": [
  {
   "cell_type": "markdown",
   "id": "6965607e",
   "metadata": {},
   "source": [
    "### Import Libraries"
   ]
  },
  {
   "cell_type": "code",
   "execution_count": 1,
   "id": "6b067354",
   "metadata": {},
   "outputs": [],
   "source": [
    "import pandas as pd\n",
    "import numpy as np\n",
    "import matplotlib.pyplot as plt\n",
    "import seaborn as sns\n",
    "import re\n",
    "import string\n",
    "from pyarabic import araby\n",
    "import nltk\n",
    "from nltk.corpus import stopwords"
   ]
  },
  {
   "cell_type": "code",
   "execution_count": 2,
   "id": "6bf74d03",
   "metadata": {},
   "outputs": [
    {
     "name": "stderr",
     "output_type": "stream",
     "text": [
      "[nltk_data] Downloading package stopwords to C:\\Users\\Mohamed\n",
      "[nltk_data]     Elaraby\\AppData\\Roaming\\nltk_data...\n",
      "[nltk_data]   Package stopwords is already up-to-date!\n",
      "[nltk_data] Downloading package wordnet to C:\\Users\\Mohamed\n",
      "[nltk_data]     Elaraby\\AppData\\Roaming\\nltk_data...\n",
      "[nltk_data]   Package wordnet is already up-to-date!\n"
     ]
    },
    {
     "data": {
      "text/plain": [
       "True"
      ]
     },
     "execution_count": 2,
     "metadata": {},
     "output_type": "execute_result"
    }
   ],
   "source": [
    "nltk.download(\"stopwords\")"
   ]
  },
  {
   "cell_type": "markdown",
   "id": "d139d208",
   "metadata": {},
   "source": [
    "### Load data"
   ]
  },
  {
   "cell_type": "code",
   "execution_count": 3,
   "id": "539df859",
   "metadata": {},
   "outputs": [
    {
     "name": "stdout",
     "output_type": "stream",
     "text": [
      "458197\n"
     ]
    },
    {
     "data": {
      "text/html": [
       "<div>\n",
       "<style scoped>\n",
       "    .dataframe tbody tr th:only-of-type {\n",
       "        vertical-align: middle;\n",
       "    }\n",
       "\n",
       "    .dataframe tbody tr th {\n",
       "        vertical-align: top;\n",
       "    }\n",
       "\n",
       "    .dataframe thead th {\n",
       "        text-align: right;\n",
       "    }\n",
       "</style>\n",
       "<table border=\"1\" class=\"dataframe\">\n",
       "  <thead>\n",
       "    <tr style=\"text-align: right;\">\n",
       "      <th></th>\n",
       "      <th>id</th>\n",
       "      <th>txt</th>\n",
       "      <th>dialect</th>\n",
       "    </tr>\n",
       "  </thead>\n",
       "  <tbody>\n",
       "    <tr>\n",
       "      <th>0</th>\n",
       "      <td>1175358310087892992</td>\n",
       "      <td>@Nw8ieJUwaCAAreT لكن بالنهاية .. ينتفض .. يغير .</td>\n",
       "      <td>IQ</td>\n",
       "    </tr>\n",
       "    <tr>\n",
       "      <th>1</th>\n",
       "      <td>1175416117793349632</td>\n",
       "      <td>@7zNqXP0yrODdRjK يعني هذا محسوب على البشر .. ح...</td>\n",
       "      <td>IQ</td>\n",
       "    </tr>\n",
       "    <tr>\n",
       "      <th>2</th>\n",
       "      <td>1175450108898565888</td>\n",
       "      <td>@KanaanRema مبين من كلامه خليجي</td>\n",
       "      <td>IQ</td>\n",
       "    </tr>\n",
       "    <tr>\n",
       "      <th>3</th>\n",
       "      <td>1175471073770573824</td>\n",
       "      <td>@HAIDER76128900 يسلملي مرورك وروحك الحلوه💐</td>\n",
       "      <td>IQ</td>\n",
       "    </tr>\n",
       "    <tr>\n",
       "      <th>4</th>\n",
       "      <td>1175496913145217024</td>\n",
       "      <td>@hmo2406 وين هل الغيبه  اخ محمد 🌸🌺</td>\n",
       "      <td>IQ</td>\n",
       "    </tr>\n",
       "    <tr>\n",
       "      <th>5</th>\n",
       "      <td>1175668034146643968</td>\n",
       "      <td>@Badi9595 @KanaanRema يااخي الإرهابي اذا كان ع...</td>\n",
       "      <td>IQ</td>\n",
       "    </tr>\n",
       "    <tr>\n",
       "      <th>6</th>\n",
       "      <td>1175670153884983296</td>\n",
       "      <td>@SarahNadhum90 @nUBNTdfVgACYQxV مطلبي يقدم است...</td>\n",
       "      <td>IQ</td>\n",
       "    </tr>\n",
       "    <tr>\n",
       "      <th>7</th>\n",
       "      <td>1175671762580856832</td>\n",
       "      <td>@KanaanRema @Badi9595 خلص والله لعيونكم انا ما...</td>\n",
       "      <td>IQ</td>\n",
       "    </tr>\n",
       "    <tr>\n",
       "      <th>8</th>\n",
       "      <td>1175715664398561280</td>\n",
       "      <td>@SalahAlarbawi يمكن سؤال فات الكثير اللي يصور ...</td>\n",
       "      <td>IQ</td>\n",
       "    </tr>\n",
       "    <tr>\n",
       "      <th>9</th>\n",
       "      <td>1176019816072777728</td>\n",
       "      <td>@Eng_alow91 @cb4LwpWrS1hT5lb @EdyCohen اولا ان...</td>\n",
       "      <td>IQ</td>\n",
       "    </tr>\n",
       "  </tbody>\n",
       "</table>\n",
       "</div>"
      ],
      "text/plain": [
       "                    id                                                txt  \\\n",
       "0  1175358310087892992   @Nw8ieJUwaCAAreT لكن بالنهاية .. ينتفض .. يغير .   \n",
       "1  1175416117793349632  @7zNqXP0yrODdRjK يعني هذا محسوب على البشر .. ح...   \n",
       "2  1175450108898565888                    @KanaanRema مبين من كلامه خليجي   \n",
       "3  1175471073770573824         @HAIDER76128900 يسلملي مرورك وروحك الحلوه💐   \n",
       "4  1175496913145217024                 @hmo2406 وين هل الغيبه  اخ محمد 🌸🌺   \n",
       "5  1175668034146643968  @Badi9595 @KanaanRema يااخي الإرهابي اذا كان ع...   \n",
       "6  1175670153884983296  @SarahNadhum90 @nUBNTdfVgACYQxV مطلبي يقدم است...   \n",
       "7  1175671762580856832  @KanaanRema @Badi9595 خلص والله لعيونكم انا ما...   \n",
       "8  1175715664398561280  @SalahAlarbawi يمكن سؤال فات الكثير اللي يصور ...   \n",
       "9  1176019816072777728  @Eng_alow91 @cb4LwpWrS1hT5lb @EdyCohen اولا ان...   \n",
       "\n",
       "  dialect  \n",
       "0      IQ  \n",
       "1      IQ  \n",
       "2      IQ  \n",
       "3      IQ  \n",
       "4      IQ  \n",
       "5      IQ  \n",
       "6      IQ  \n",
       "7      IQ  \n",
       "8      IQ  \n",
       "9      IQ  "
      ]
     },
     "metadata": {},
     "output_type": "display_data"
    }
   ],
   "source": [
    "df = pd.read_excel('data/data.xlsx')\n",
    "df.drop(['Unnamed: 0'], axis=1, inplace = True)\n",
    "print(len(df))\n",
    "display(df.head(10))"
   ]
  },
  {
   "cell_type": "markdown",
   "id": "2b9fca84",
   "metadata": {},
   "source": [
    "### Txt Preprocessing"
   ]
  },
  {
   "cell_type": "markdown",
   "id": "264e4b02",
   "metadata": {},
   "source": [
    "#### remove emoji"
   ]
  },
  {
   "cell_type": "code",
   "execution_count": 8,
   "id": "b12775e0",
   "metadata": {},
   "outputs": [],
   "source": [
    "def remove_emoji(string):\n",
    "    emoji_pattern = re.compile(\"[\"\n",
    "                               u\"\\U0001F600-\\U0001F64F\"  # emoticons\n",
    "                               u\"\\U0001F300-\\U0001F5FF\"  # symbols & pictographs\n",
    "                               u\"\\U0001F680-\\U0001F6FF\"  # transport & map symbols\n",
    "                               u\"\\U0001F1E0-\\U0001F1FF\"  # flags (iOS)\n",
    "                               u\"\\U00002500-\\U00002BEF\"  # chinese char\n",
    "                               u\"\\U00002702-\\U000027B0\"\n",
    "                               u\"\\U00002702-\\U000027B0\"\n",
    "                               u\"\\U000024C2-\\U0001F251\"\n",
    "                               u\"\\U0001f926-\\U0001f937\"\n",
    "                               u\"\\U00010000-\\U0010ffff\"\n",
    "                               u\"\\u2640-\\u2642\"\n",
    "                               u\"\\u2600-\\u2B55\"\n",
    "                               u\"\\u200d\"\n",
    "                               u\"\\u23cf\"\n",
    "                               u\"\\u23e9\"\n",
    "                               u\"\\u231a\"\n",
    "                               u\"\\ufe0f\"  # dingbats\n",
    "                               u\"\\u3030\"\n",
    "                               \"]+\", flags=re.UNICODE)\n",
    "    return emoji_pattern.sub(r'', string)"
   ]
  },
  {
   "cell_type": "markdown",
   "id": "99d45264",
   "metadata": {},
   "source": [
    "#### remove punctuations"
   ]
  },
  {
   "cell_type": "code",
   "execution_count": 9,
   "id": "34ede89b",
   "metadata": {},
   "outputs": [],
   "source": [
    "arabic_punctuations = '''`÷×؛<>_()*&^%][ـ،/:\"؟.,'{}~¦+|!”…“–ـ'''\n",
    "english_punctuations = string.punctuation\n",
    "punctuations_list = arabic_punctuations + english_punctuations\n",
    "translator = str.maketrans('', '', punctuations_list)"
   ]
  },
  {
   "cell_type": "markdown",
   "id": "39540c9d",
   "metadata": {},
   "source": [
    "#### remove user name, url, spaces, english chrs, new line, repeated chrs"
   ]
  },
  {
   "cell_type": "code",
   "execution_count": 10,
   "id": "698f8a08",
   "metadata": {},
   "outputs": [],
   "source": [
    "txt_cleaned= []\n",
    "txt_tokens= []\n",
    "for line in df['txt']:\n",
    "    new_line = re.sub('@[^\\s]+','',str(line))\n",
    "    new_line = remove_emoji(new_line)\n",
    "    new_line = re.sub(r'http\\S+', '', new_line)\n",
    "    new_line = new_line.translate(translator)\n",
    "    new_line = re.sub(' +', ' ',new_line)\n",
    "    new_line = re.sub(r'\\s*[A-Za-z0-9]+\\b', '' , new_line)\n",
    "    new_line = new_line.replace(\"\\n\" ,\" \")\n",
    "    new_line = re.sub(r'(.)\\1+', r'\\1', new_line)\n",
    "    tokens = araby.tokenize(new_line)\n",
    "    txt_cleaned.append(new_line)\n",
    "    txt_tokens.append(tokens)"
   ]
  },
  {
   "cell_type": "markdown",
   "id": "50601081",
   "metadata": {},
   "source": [
    "#### remove stop words using NLTK"
   ]
  },
  {
   "cell_type": "code",
   "execution_count": 11,
   "id": "ba4b0780",
   "metadata": {},
   "outputs": [],
   "source": [
    "tokens_stop_nltk = []\n",
    "for lst in txt_tokens:\n",
    "    tokens_stop_nltk.append([word for word in lst if not word in stopwords.words('arabic')])"
   ]
  },
  {
   "cell_type": "markdown",
   "id": "feacc404",
   "metadata": {},
   "source": [
    "#### remove stop words using external file"
   ]
  },
  {
   "cell_type": "code",
   "execution_count": 12,
   "id": "069ad9e2",
   "metadata": {},
   "outputs": [],
   "source": [
    "my_file = open(\"data/stop_list_1177.txt\", \"r\",  encoding='utf-8')\n",
    "st_all = my_file.read()\n",
    "multi_sw = st_all.split(\"\\n\")\n",
    "my_file.close()"
   ]
  },
  {
   "cell_type": "code",
   "execution_count": 13,
   "id": "fa8887c2",
   "metadata": {},
   "outputs": [],
   "source": [
    "tokens_stop_all = []\n",
    "for i in txt_tokens:\n",
    "    tokens_stop_all.append([word for word in i if not word in multi_sw])"
   ]
  },
  {
   "cell_type": "markdown",
   "id": "bce43e32",
   "metadata": {},
   "source": [
    "### Create dataframe of cleaned data"
   ]
  },
  {
   "cell_type": "code",
   "execution_count": 14,
   "id": "660c60de",
   "metadata": {},
   "outputs": [],
   "source": [
    "df.insert(2, 'txt_cleaned', txt_cleaned)\n",
    "df.insert(3, 'txt_tokens', txt_tokens)\n",
    "df.insert(4, 'txt_tokens_sw_nltk', tokens_stop_nltk)\n",
    "df.insert(5, 'txt_tokens_sw_all', tokens_stop_all)"
   ]
  },
  {
   "cell_type": "code",
   "execution_count": 15,
   "id": "353f8c05",
   "metadata": {},
   "outputs": [
    {
     "data": {
      "text/html": [
       "<div>\n",
       "<style scoped>\n",
       "    .dataframe tbody tr th:only-of-type {\n",
       "        vertical-align: middle;\n",
       "    }\n",
       "\n",
       "    .dataframe tbody tr th {\n",
       "        vertical-align: top;\n",
       "    }\n",
       "\n",
       "    .dataframe thead th {\n",
       "        text-align: right;\n",
       "    }\n",
       "</style>\n",
       "<table border=\"1\" class=\"dataframe\">\n",
       "  <thead>\n",
       "    <tr style=\"text-align: right;\">\n",
       "      <th></th>\n",
       "      <th>id</th>\n",
       "      <th>txt</th>\n",
       "      <th>txt_cleaned</th>\n",
       "      <th>txt_tokens</th>\n",
       "      <th>txt_tokens_sw_nltk</th>\n",
       "      <th>txt_tokens_sw_all</th>\n",
       "      <th>dialect</th>\n",
       "    </tr>\n",
       "  </thead>\n",
       "  <tbody>\n",
       "    <tr>\n",
       "      <th>0</th>\n",
       "      <td>1175358310087892992</td>\n",
       "      <td>@Nw8ieJUwaCAAreT لكن بالنهاية .. ينتفض .. يغير .</td>\n",
       "      <td>لكن بالنهاية ينتفض يغير</td>\n",
       "      <td>[لكن, بالنهاية, ينتفض, يغير]</td>\n",
       "      <td>[بالنهاية, ينتفض, يغير]</td>\n",
       "      <td>[بالنهاية, ينتفض, يغير]</td>\n",
       "      <td>IQ</td>\n",
       "    </tr>\n",
       "    <tr>\n",
       "      <th>1</th>\n",
       "      <td>1175416117793349632</td>\n",
       "      <td>@7zNqXP0yrODdRjK يعني هذا محسوب على البشر .. ح...</td>\n",
       "      <td>يعني هذا محسوب على البشر حيونه وحشيه وتطلبون ...</td>\n",
       "      <td>[يعني, هذا, محسوب, على, البشر, حيونه, وحشيه, و...</td>\n",
       "      <td>[يعني, محسوب, البشر, حيونه, وحشيه, وتطلبون, ال...</td>\n",
       "      <td>[محسوب, البشر, حيونه, وحشيه, وتطلبون, الغرب, ي...</td>\n",
       "      <td>IQ</td>\n",
       "    </tr>\n",
       "    <tr>\n",
       "      <th>2</th>\n",
       "      <td>1175450108898565888</td>\n",
       "      <td>@KanaanRema مبين من كلامه خليجي</td>\n",
       "      <td>مبين من كلامه خليجي</td>\n",
       "      <td>[مبين, من, كلامه, خليجي]</td>\n",
       "      <td>[مبين, كلامه, خليجي]</td>\n",
       "      <td>[مبين, كلامه, خليجي]</td>\n",
       "      <td>IQ</td>\n",
       "    </tr>\n",
       "    <tr>\n",
       "      <th>3</th>\n",
       "      <td>1175471073770573824</td>\n",
       "      <td>@HAIDER76128900 يسلملي مرورك وروحك الحلوه💐</td>\n",
       "      <td>يسلملي مرورك وروحك الحلوه</td>\n",
       "      <td>[يسلملي, مرورك, وروحك, الحلوه]</td>\n",
       "      <td>[يسلملي, مرورك, وروحك, الحلوه]</td>\n",
       "      <td>[يسلملي, مرورك, وروحك, الحلوه]</td>\n",
       "      <td>IQ</td>\n",
       "    </tr>\n",
       "    <tr>\n",
       "      <th>4</th>\n",
       "      <td>1175496913145217024</td>\n",
       "      <td>@hmo2406 وين هل الغيبه  اخ محمد 🌸🌺</td>\n",
       "      <td>وين هل الغيبه اخ محمد</td>\n",
       "      <td>[وين, هل, الغيبه, اخ, محمد]</td>\n",
       "      <td>[وين, الغيبه, اخ, محمد]</td>\n",
       "      <td>[الغيبه, اخ, محمد]</td>\n",
       "      <td>IQ</td>\n",
       "    </tr>\n",
       "    <tr>\n",
       "      <th>5</th>\n",
       "      <td>1175668034146643968</td>\n",
       "      <td>@Badi9595 @KanaanRema يااخي الإرهابي اذا كان ع...</td>\n",
       "      <td>ياخي الإرهابي اذا كان عراقي سعودي فلسطيني وين...</td>\n",
       "      <td>[ياخي, الإرهابي, اذا, كان, عراقي, سعودي, فلسطي...</td>\n",
       "      <td>[ياخي, الإرهابي, اذا, عراقي, سعودي, فلسطيني, و...</td>\n",
       "      <td>[الإرهابي, عراقي, سعودي, فلسطيني, المشكلة, باب...</td>\n",
       "      <td>IQ</td>\n",
       "    </tr>\n",
       "    <tr>\n",
       "      <th>6</th>\n",
       "      <td>1175670153884983296</td>\n",
       "      <td>@SarahNadhum90 @nUBNTdfVgACYQxV مطلبي يقدم است...</td>\n",
       "      <td>مطلبي يقدم استقالته وفوگاها اعتذار</td>\n",
       "      <td>[مطلبي, يقدم, استقالته, وفوگاها, اعتذار]</td>\n",
       "      <td>[مطلبي, يقدم, استقالته, وفوگاها, اعتذار]</td>\n",
       "      <td>[مطلبي, يقدم, استقالته, وفوگاها, اعتذار]</td>\n",
       "      <td>IQ</td>\n",
       "    </tr>\n",
       "    <tr>\n",
       "      <th>7</th>\n",
       "      <td>1175671762580856832</td>\n",
       "      <td>@KanaanRema @Badi9595 خلص والله لعيونكم انا ما...</td>\n",
       "      <td>خلص واله لعيونكم انا ماعندي شيء معه بالعكس من...</td>\n",
       "      <td>[خلص, واله, لعيونكم, انا, ماعندي, شيء, معه, با...</td>\n",
       "      <td>[خلص, واله, لعيونكم, انا, ماعندي, شيء, معه, با...</td>\n",
       "      <td>[خلص, واله, لعيونكم, انا, ماعندي, بالعكس, متاب...</td>\n",
       "      <td>IQ</td>\n",
       "    </tr>\n",
       "    <tr>\n",
       "      <th>8</th>\n",
       "      <td>1175715664398561280</td>\n",
       "      <td>@SalahAlarbawi يمكن سؤال فات الكثير اللي يصور ...</td>\n",
       "      <td>يمكن سؤال فات الكثير الي يصور شنو موقفه وكأنه...</td>\n",
       "      <td>[يمكن, سؤال, فات, الكثير, الي, يصور, شنو, موقف...</td>\n",
       "      <td>[يمكن, سؤال, فات, الكثير, الي, يصور, شنو, موقف...</td>\n",
       "      <td>[سؤال, فات, الكثير, الي, يصور, موقفه, وكأنه, ي...</td>\n",
       "      <td>IQ</td>\n",
       "    </tr>\n",
       "    <tr>\n",
       "      <th>9</th>\n",
       "      <td>1176019816072777728</td>\n",
       "      <td>@Eng_alow91 @cb4LwpWrS1hT5lb @EdyCohen اولا ان...</td>\n",
       "      <td>اولا اني ردت على رجل جنوبي والي ذكر حجابها ثا...</td>\n",
       "      <td>[اولا, اني, ردت, على, رجل, جنوبي, والي, ذكر, ح...</td>\n",
       "      <td>[اولا, اني, ردت, رجل, جنوبي, والي, ذكر, حجابها...</td>\n",
       "      <td>[اولا, اني, ردت, رجل, جنوبي, والي, ذكر, حجابها...</td>\n",
       "      <td>IQ</td>\n",
       "    </tr>\n",
       "  </tbody>\n",
       "</table>\n",
       "</div>"
      ],
      "text/plain": [
       "                    id                                                txt  \\\n",
       "0  1175358310087892992   @Nw8ieJUwaCAAreT لكن بالنهاية .. ينتفض .. يغير .   \n",
       "1  1175416117793349632  @7zNqXP0yrODdRjK يعني هذا محسوب على البشر .. ح...   \n",
       "2  1175450108898565888                    @KanaanRema مبين من كلامه خليجي   \n",
       "3  1175471073770573824         @HAIDER76128900 يسلملي مرورك وروحك الحلوه💐   \n",
       "4  1175496913145217024                 @hmo2406 وين هل الغيبه  اخ محمد 🌸🌺   \n",
       "5  1175668034146643968  @Badi9595 @KanaanRema يااخي الإرهابي اذا كان ع...   \n",
       "6  1175670153884983296  @SarahNadhum90 @nUBNTdfVgACYQxV مطلبي يقدم است...   \n",
       "7  1175671762580856832  @KanaanRema @Badi9595 خلص والله لعيونكم انا ما...   \n",
       "8  1175715664398561280  @SalahAlarbawi يمكن سؤال فات الكثير اللي يصور ...   \n",
       "9  1176019816072777728  @Eng_alow91 @cb4LwpWrS1hT5lb @EdyCohen اولا ان...   \n",
       "\n",
       "                                         txt_cleaned  \\\n",
       "0                           لكن بالنهاية ينتفض يغير    \n",
       "1   يعني هذا محسوب على البشر حيونه وحشيه وتطلبون ...   \n",
       "2                                مبين من كلامه خليجي   \n",
       "3                          يسلملي مرورك وروحك الحلوه   \n",
       "4                             وين هل الغيبه اخ محمد    \n",
       "5   ياخي الإرهابي اذا كان عراقي سعودي فلسطيني وين...   \n",
       "6                 مطلبي يقدم استقالته وفوگاها اعتذار   \n",
       "7   خلص واله لعيونكم انا ماعندي شيء معه بالعكس من...   \n",
       "8   يمكن سؤال فات الكثير الي يصور شنو موقفه وكأنه...   \n",
       "9   اولا اني ردت على رجل جنوبي والي ذكر حجابها ثا...   \n",
       "\n",
       "                                          txt_tokens  \\\n",
       "0                       [لكن, بالنهاية, ينتفض, يغير]   \n",
       "1  [يعني, هذا, محسوب, على, البشر, حيونه, وحشيه, و...   \n",
       "2                           [مبين, من, كلامه, خليجي]   \n",
       "3                     [يسلملي, مرورك, وروحك, الحلوه]   \n",
       "4                        [وين, هل, الغيبه, اخ, محمد]   \n",
       "5  [ياخي, الإرهابي, اذا, كان, عراقي, سعودي, فلسطي...   \n",
       "6           [مطلبي, يقدم, استقالته, وفوگاها, اعتذار]   \n",
       "7  [خلص, واله, لعيونكم, انا, ماعندي, شيء, معه, با...   \n",
       "8  [يمكن, سؤال, فات, الكثير, الي, يصور, شنو, موقف...   \n",
       "9  [اولا, اني, ردت, على, رجل, جنوبي, والي, ذكر, ح...   \n",
       "\n",
       "                                  txt_tokens_sw_nltk  \\\n",
       "0                            [بالنهاية, ينتفض, يغير]   \n",
       "1  [يعني, محسوب, البشر, حيونه, وحشيه, وتطلبون, ال...   \n",
       "2                               [مبين, كلامه, خليجي]   \n",
       "3                     [يسلملي, مرورك, وروحك, الحلوه]   \n",
       "4                            [وين, الغيبه, اخ, محمد]   \n",
       "5  [ياخي, الإرهابي, اذا, عراقي, سعودي, فلسطيني, و...   \n",
       "6           [مطلبي, يقدم, استقالته, وفوگاها, اعتذار]   \n",
       "7  [خلص, واله, لعيونكم, انا, ماعندي, شيء, معه, با...   \n",
       "8  [يمكن, سؤال, فات, الكثير, الي, يصور, شنو, موقف...   \n",
       "9  [اولا, اني, ردت, رجل, جنوبي, والي, ذكر, حجابها...   \n",
       "\n",
       "                                   txt_tokens_sw_all dialect  \n",
       "0                            [بالنهاية, ينتفض, يغير]      IQ  \n",
       "1  [محسوب, البشر, حيونه, وحشيه, وتطلبون, الغرب, ي...      IQ  \n",
       "2                               [مبين, كلامه, خليجي]      IQ  \n",
       "3                     [يسلملي, مرورك, وروحك, الحلوه]      IQ  \n",
       "4                                 [الغيبه, اخ, محمد]      IQ  \n",
       "5  [الإرهابي, عراقي, سعودي, فلسطيني, المشكلة, باب...      IQ  \n",
       "6           [مطلبي, يقدم, استقالته, وفوگاها, اعتذار]      IQ  \n",
       "7  [خلص, واله, لعيونكم, انا, ماعندي, بالعكس, متاب...      IQ  \n",
       "8  [سؤال, فات, الكثير, الي, يصور, موقفه, وكأنه, ي...      IQ  \n",
       "9  [اولا, اني, ردت, رجل, جنوبي, والي, ذكر, حجابها...      IQ  "
      ]
     },
     "metadata": {},
     "output_type": "display_data"
    }
   ],
   "source": [
    "display(df.head(10))"
   ]
  },
  {
   "cell_type": "markdown",
   "id": "d1e7b3c4",
   "metadata": {},
   "source": [
    "### Check for nulls "
   ]
  },
  {
   "cell_type": "code",
   "execution_count": 16,
   "id": "d2a5aabd",
   "metadata": {},
   "outputs": [
    {
     "data": {
      "text/plain": [
       "id                    0\n",
       "txt                   0\n",
       "txt_cleaned           0\n",
       "txt_tokens            0\n",
       "txt_tokens_sw_nltk    0\n",
       "txt_tokens_sw_all     0\n",
       "dialect               0\n",
       "dtype: int64"
      ]
     },
     "execution_count": 16,
     "metadata": {},
     "output_type": "execute_result"
    }
   ],
   "source": [
    "df.isnull().sum()"
   ]
  },
  {
   "cell_type": "markdown",
   "id": "05f60ee7",
   "metadata": {},
   "source": [
    "### Display the distribution of each class"
   ]
  },
  {
   "cell_type": "code",
   "execution_count": 17,
   "id": "8c777969",
   "metadata": {},
   "outputs": [
    {
     "data": {
      "image/png": "[encoded data removed]",
      "text/plain": [
       "<Figure size 1080x720 with 1 Axes>"
      ]
     },
     "metadata": {
      "needs_background": "light"
     },
     "output_type": "display_data"
    }
   ],
   "source": [
    "dialect = df.groupby(\"dialect\")\n",
    "plt.figure(figsize=(15,10))\n",
    "dialect.size().sort_values(ascending=False).plot.bar()\n",
    "plt.xticks(rotation=50)\n",
    "plt.xlabel(\"Country\")\n",
    "plt.ylabel(\"Count\")\n",
    "plt.show()"
   ]
  },
  {
   "cell_type": "markdown",
   "id": "fe63a720",
   "metadata": {},
   "source": [
    "### Save dataframe into Excel"
   ]
  },
  {
   "cell_type": "code",
   "execution_count": 18,
   "id": "0935ddc7",
   "metadata": {},
   "outputs": [],
   "source": [
    "df.to_excel('data/cleaned_data.xlsx')"
   ]
  }
 ],
 "metadata": {
  "kernelspec": {
   "display_name": "Python 3 (ipykernel)",
   "language": "python",
   "name": "python3"
  },
  "language_info": {
   "codemirror_mode": {
    "name": "ipython",
    "version": 3
   },
   "file_extension": ".py",
   "mimetype": "text/x-python",
   "name": "python",
   "nbconvert_exporter": "python",
   "pygments_lexer": "ipython3",
   "version": "3.9.7"
  }
 },
 "nbformat": 4,
 "nbformat_minor": 5
}
